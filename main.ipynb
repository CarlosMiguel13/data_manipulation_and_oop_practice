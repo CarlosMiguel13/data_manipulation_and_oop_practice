{
 "cells": [
  {
   "cell_type": "markdown",
   "id": "e6f2f7b7",
   "metadata": {},
   "source": [
    "# Proyecto batalla pokemon"
   ]
  },
  {
   "cell_type": "markdown",
   "id": "4e07442e",
   "metadata": {},
   "source": [
    "## Imports"
   ]
  },
  {
   "cell_type": "code",
   "execution_count": 1,
   "id": "da5338d6",
   "metadata": {},
   "outputs": [],
   "source": [
    "import pandas as pd\n",
    "import random"
   ]
  },
  {
   "cell_type": "code",
   "execution_count": null,
   "id": "5974fef9",
   "metadata": {},
   "outputs": [],
   "source": [
    "# Opcion para ver el mayor numero de columnas disponibles\n",
    "pd.set_option('display.max_columns', None)"
   ]
  },
  {
   "cell_type": "markdown",
   "id": "12ec3b27",
   "metadata": {},
   "source": [
    "## Paths"
   ]
  },
  {
   "cell_type": "code",
   "execution_count": 6,
   "id": "9d9f5a8e",
   "metadata": {},
   "outputs": [],
   "source": [
    "PATH = './pokemon.csv'"
   ]
  },
  {
   "cell_type": "markdown",
   "id": "97737015",
   "metadata": {},
   "source": [
    "## Data Extraction/mining"
   ]
  },
  {
   "cell_type": "code",
   "execution_count": 8,
   "id": "84fd8936",
   "metadata": {},
   "outputs": [],
   "source": [
    "pokemons_raw = pd.read_csv(PATH)"
   ]
  }
 ],
 "metadata": {
  "kernelspec": {
   "display_name": "Python 3",
   "language": "python",
   "name": "python3"
  },
  "language_info": {
   "codemirror_mode": {
    "name": "ipython",
    "version": 3
   },
   "file_extension": ".py",
   "mimetype": "text/x-python",
   "name": "python",
   "nbconvert_exporter": "python",
   "pygments_lexer": "ipython3",
   "version": "3.13.5"
  }
 },
 "nbformat": 4,
 "nbformat_minor": 5
}
